{
 "cells": [
  {
   "cell_type": "code",
   "execution_count": 1,
   "id": "6cf4ee11",
   "metadata": {},
   "outputs": [],
   "source": [
    "import pandas as pd\n",
    "import matplotlib.pyplot as plt\n",
    "import numpy as np\n",
    "import seaborn as sns\n",
    "from sklearn.preprocessing import LabelEncoder\n",
    "from sklearn import metrics\n",
    "from sklearn.model_selection import train_test_split\n",
    "from sklearn.preprocessing import MinMaxScaler"
   ]
  },
  {
   "cell_type": "code",
   "execution_count": 2,
   "id": "3a176ec4",
   "metadata": {},
   "outputs": [],
   "source": [
    "df = pd.read_csv(\"train_data.csv\")\n",
    "dff = pd.read_csv(\"test_data.csv\")\n",
    "ss = pd.read_csv(\"SampleSubmission.csv\")\n",
    "other = pd.read_csv(\"test_data.csv\")\n"
   ]
  },
  {
   "cell_type": "code",
   "execution_count": 4,
   "id": "9929a8ab",
   "metadata": {},
   "outputs": [
    {
     "data": {
      "text/html": [
       "<div>\n",
       "<style scoped>\n",
       "    .dataframe tbody tr th:only-of-type {\n",
       "        vertical-align: middle;\n",
       "    }\n",
       "\n",
       "    .dataframe tbody tr th {\n",
       "        vertical-align: top;\n",
       "    }\n",
       "\n",
       "    .dataframe thead th {\n",
       "        text-align: right;\n",
       "    }\n",
       "</style>\n",
       "<table border=\"1\" class=\"dataframe\">\n",
       "  <thead>\n",
       "    <tr style=\"text-align: right;\">\n",
       "      <th></th>\n",
       "      <th>Customer Id</th>\n",
       "      <th>YearOfObservation</th>\n",
       "      <th>Insured_Period</th>\n",
       "      <th>Residential</th>\n",
       "      <th>Building_Painted</th>\n",
       "      <th>Building_Fenced</th>\n",
       "      <th>Garden</th>\n",
       "      <th>Settlement</th>\n",
       "      <th>Building Dimension</th>\n",
       "      <th>Building_Type</th>\n",
       "      <th>Date_of_Occupancy</th>\n",
       "      <th>NumberOfWindows</th>\n",
       "      <th>Geo_Code</th>\n",
       "      <th>Claim</th>\n",
       "    </tr>\n",
       "  </thead>\n",
       "  <tbody>\n",
       "    <tr>\n",
       "      <th>0</th>\n",
       "      <td>H14663</td>\n",
       "      <td>2013</td>\n",
       "      <td>1.000000</td>\n",
       "      <td>0</td>\n",
       "      <td>N</td>\n",
       "      <td>V</td>\n",
       "      <td>V</td>\n",
       "      <td>U</td>\n",
       "      <td>290.0</td>\n",
       "      <td>1</td>\n",
       "      <td>1960.0</td>\n",
       "      <td>.</td>\n",
       "      <td>1053</td>\n",
       "      <td>0</td>\n",
       "    </tr>\n",
       "    <tr>\n",
       "      <th>1</th>\n",
       "      <td>H2037</td>\n",
       "      <td>2015</td>\n",
       "      <td>1.000000</td>\n",
       "      <td>0</td>\n",
       "      <td>V</td>\n",
       "      <td>N</td>\n",
       "      <td>O</td>\n",
       "      <td>R</td>\n",
       "      <td>490.0</td>\n",
       "      <td>1</td>\n",
       "      <td>1850.0</td>\n",
       "      <td>4</td>\n",
       "      <td>1053</td>\n",
       "      <td>0</td>\n",
       "    </tr>\n",
       "    <tr>\n",
       "      <th>2</th>\n",
       "      <td>H3802</td>\n",
       "      <td>2014</td>\n",
       "      <td>1.000000</td>\n",
       "      <td>0</td>\n",
       "      <td>N</td>\n",
       "      <td>V</td>\n",
       "      <td>V</td>\n",
       "      <td>U</td>\n",
       "      <td>595.0</td>\n",
       "      <td>1</td>\n",
       "      <td>1960.0</td>\n",
       "      <td>.</td>\n",
       "      <td>1053</td>\n",
       "      <td>0</td>\n",
       "    </tr>\n",
       "    <tr>\n",
       "      <th>3</th>\n",
       "      <td>H3834</td>\n",
       "      <td>2013</td>\n",
       "      <td>1.000000</td>\n",
       "      <td>0</td>\n",
       "      <td>V</td>\n",
       "      <td>V</td>\n",
       "      <td>V</td>\n",
       "      <td>U</td>\n",
       "      <td>2840.0</td>\n",
       "      <td>1</td>\n",
       "      <td>1960.0</td>\n",
       "      <td>.</td>\n",
       "      <td>1053</td>\n",
       "      <td>0</td>\n",
       "    </tr>\n",
       "    <tr>\n",
       "      <th>4</th>\n",
       "      <td>H5053</td>\n",
       "      <td>2014</td>\n",
       "      <td>1.000000</td>\n",
       "      <td>0</td>\n",
       "      <td>V</td>\n",
       "      <td>N</td>\n",
       "      <td>O</td>\n",
       "      <td>R</td>\n",
       "      <td>680.0</td>\n",
       "      <td>1</td>\n",
       "      <td>1800.0</td>\n",
       "      <td>3</td>\n",
       "      <td>1053</td>\n",
       "      <td>0</td>\n",
       "    </tr>\n",
       "    <tr>\n",
       "      <th>...</th>\n",
       "      <td>...</td>\n",
       "      <td>...</td>\n",
       "      <td>...</td>\n",
       "      <td>...</td>\n",
       "      <td>...</td>\n",
       "      <td>...</td>\n",
       "      <td>...</td>\n",
       "      <td>...</td>\n",
       "      <td>...</td>\n",
       "      <td>...</td>\n",
       "      <td>...</td>\n",
       "      <td>...</td>\n",
       "      <td>...</td>\n",
       "      <td>...</td>\n",
       "    </tr>\n",
       "    <tr>\n",
       "      <th>7155</th>\n",
       "      <td>H5290</td>\n",
       "      <td>2012</td>\n",
       "      <td>1.000000</td>\n",
       "      <td>1</td>\n",
       "      <td>V</td>\n",
       "      <td>V</td>\n",
       "      <td>V</td>\n",
       "      <td>U</td>\n",
       "      <td>NaN</td>\n",
       "      <td>1</td>\n",
       "      <td>2001.0</td>\n",
       "      <td>.</td>\n",
       "      <td>NaN</td>\n",
       "      <td>0</td>\n",
       "    </tr>\n",
       "    <tr>\n",
       "      <th>7156</th>\n",
       "      <td>H5926</td>\n",
       "      <td>2013</td>\n",
       "      <td>1.000000</td>\n",
       "      <td>0</td>\n",
       "      <td>V</td>\n",
       "      <td>V</td>\n",
       "      <td>V</td>\n",
       "      <td>U</td>\n",
       "      <td>NaN</td>\n",
       "      <td>2</td>\n",
       "      <td>1980.0</td>\n",
       "      <td>.</td>\n",
       "      <td>NaN</td>\n",
       "      <td>1</td>\n",
       "    </tr>\n",
       "    <tr>\n",
       "      <th>7157</th>\n",
       "      <td>H6204</td>\n",
       "      <td>2016</td>\n",
       "      <td>0.038251</td>\n",
       "      <td>0</td>\n",
       "      <td>V</td>\n",
       "      <td>V</td>\n",
       "      <td>V</td>\n",
       "      <td>U</td>\n",
       "      <td>NaN</td>\n",
       "      <td>1</td>\n",
       "      <td>1992.0</td>\n",
       "      <td>.</td>\n",
       "      <td>NaN</td>\n",
       "      <td>0</td>\n",
       "    </tr>\n",
       "    <tr>\n",
       "      <th>7158</th>\n",
       "      <td>H6537</td>\n",
       "      <td>2013</td>\n",
       "      <td>1.000000</td>\n",
       "      <td>0</td>\n",
       "      <td>V</td>\n",
       "      <td>V</td>\n",
       "      <td>V</td>\n",
       "      <td>U</td>\n",
       "      <td>NaN</td>\n",
       "      <td>1</td>\n",
       "      <td>1972.0</td>\n",
       "      <td>.</td>\n",
       "      <td>NaN</td>\n",
       "      <td>0</td>\n",
       "    </tr>\n",
       "    <tr>\n",
       "      <th>7159</th>\n",
       "      <td>H7470</td>\n",
       "      <td>2014</td>\n",
       "      <td>1.000000</td>\n",
       "      <td>0</td>\n",
       "      <td>V</td>\n",
       "      <td>V</td>\n",
       "      <td>V</td>\n",
       "      <td>U</td>\n",
       "      <td>NaN</td>\n",
       "      <td>1</td>\n",
       "      <td>2004.0</td>\n",
       "      <td>.</td>\n",
       "      <td>NaN</td>\n",
       "      <td>0</td>\n",
       "    </tr>\n",
       "  </tbody>\n",
       "</table>\n",
       "<p>7160 rows × 14 columns</p>\n",
       "</div>"
      ],
      "text/plain": [
       "     Customer Id  YearOfObservation  Insured_Period  Residential  \\\n",
       "0         H14663               2013        1.000000            0   \n",
       "1          H2037               2015        1.000000            0   \n",
       "2          H3802               2014        1.000000            0   \n",
       "3          H3834               2013        1.000000            0   \n",
       "4          H5053               2014        1.000000            0   \n",
       "...          ...                ...             ...          ...   \n",
       "7155       H5290               2012        1.000000            1   \n",
       "7156       H5926               2013        1.000000            0   \n",
       "7157       H6204               2016        0.038251            0   \n",
       "7158       H6537               2013        1.000000            0   \n",
       "7159       H7470               2014        1.000000            0   \n",
       "\n",
       "     Building_Painted Building_Fenced Garden Settlement  Building Dimension  \\\n",
       "0                   N               V      V          U               290.0   \n",
       "1                   V               N      O          R               490.0   \n",
       "2                   N               V      V          U               595.0   \n",
       "3                   V               V      V          U              2840.0   \n",
       "4                   V               N      O          R               680.0   \n",
       "...               ...             ...    ...        ...                 ...   \n",
       "7155                V               V      V          U                 NaN   \n",
       "7156                V               V      V          U                 NaN   \n",
       "7157                V               V      V          U                 NaN   \n",
       "7158                V               V      V          U                 NaN   \n",
       "7159                V               V      V          U                 NaN   \n",
       "\n",
       "      Building_Type  Date_of_Occupancy NumberOfWindows Geo_Code  Claim  \n",
       "0                 1             1960.0               .     1053      0  \n",
       "1                 1             1850.0               4     1053      0  \n",
       "2                 1             1960.0               .     1053      0  \n",
       "3                 1             1960.0               .     1053      0  \n",
       "4                 1             1800.0               3     1053      0  \n",
       "...             ...                ...             ...      ...    ...  \n",
       "7155              1             2001.0               .      NaN      0  \n",
       "7156              2             1980.0               .      NaN      1  \n",
       "7157              1             1992.0               .      NaN      0  \n",
       "7158              1             1972.0               .      NaN      0  \n",
       "7159              1             2004.0               .      NaN      0  \n",
       "\n",
       "[7160 rows x 14 columns]"
      ]
     },
     "execution_count": 4,
     "metadata": {},
     "output_type": "execute_result"
    }
   ],
   "source": [
    "df"
   ]
  },
  {
   "cell_type": "code",
   "execution_count": 8,
   "id": "254e7192",
   "metadata": {},
   "outputs": [
    {
     "data": {
      "text/plain": [
       "(3069, 13)"
      ]
     },
     "execution_count": 8,
     "metadata": {},
     "output_type": "execute_result"
    }
   ],
   "source": [
    "dff.shape"
   ]
  },
  {
   "cell_type": "code",
   "execution_count": 9,
   "id": "8664f2bf",
   "metadata": {},
   "outputs": [
    {
     "name": "stdout",
     "output_type": "stream",
     "text": [
      "<class 'pandas.core.frame.DataFrame'>\n",
      "RangeIndex: 7160 entries, 0 to 7159\n",
      "Data columns (total 14 columns):\n",
      " #   Column              Non-Null Count  Dtype  \n",
      "---  ------              --------------  -----  \n",
      " 0   Customer Id         7160 non-null   object \n",
      " 1   YearOfObservation   7160 non-null   int64  \n",
      " 2   Insured_Period      7160 non-null   float64\n",
      " 3   Residential         7160 non-null   int64  \n",
      " 4   Building_Painted    7160 non-null   object \n",
      " 5   Building_Fenced     7160 non-null   object \n",
      " 6   Garden              7153 non-null   object \n",
      " 7   Settlement          7160 non-null   object \n",
      " 8   Building Dimension  7054 non-null   float64\n",
      " 9   Building_Type       7160 non-null   int64  \n",
      " 10  Date_of_Occupancy   6652 non-null   float64\n",
      " 11  NumberOfWindows     7160 non-null   object \n",
      " 12  Geo_Code            7058 non-null   object \n",
      " 13  Claim               7160 non-null   int64  \n",
      "dtypes: float64(3), int64(4), object(7)\n",
      "memory usage: 783.2+ KB\n"
     ]
    }
   ],
   "source": [
    "df.info()"
   ]
  },
  {
   "cell_type": "code",
   "execution_count": 10,
   "id": "e879fff8",
   "metadata": {},
   "outputs": [
    {
     "data": {
      "text/plain": [
       "Customer Id             0\n",
       "YearOfObservation       0\n",
       "Insured_Period          0\n",
       "Residential             0\n",
       "Building_Painted        0\n",
       "Building_Fenced         0\n",
       "Garden                  7\n",
       "Settlement              0\n",
       "Building Dimension    106\n",
       "Building_Type           0\n",
       "Date_of_Occupancy     508\n",
       "NumberOfWindows         0\n",
       "Geo_Code              102\n",
       "Claim                   0\n",
       "dtype: int64"
      ]
     },
     "execution_count": 10,
     "metadata": {},
     "output_type": "execute_result"
    }
   ],
   "source": [
    "df.isna().sum()"
   ]
  },
  {
   "cell_type": "code",
   "execution_count": 11,
   "id": "6ab12cf9",
   "metadata": {},
   "outputs": [
    {
     "data": {
      "text/plain": [
       "O    3602\n",
       "V    3551\n",
       "Name: Garden, dtype: int64"
      ]
     },
     "execution_count": 11,
     "metadata": {},
     "output_type": "execute_result"
    }
   ],
   "source": [
    "df.Garden.value_counts()"
   ]
  },
  {
   "cell_type": "code",
   "execution_count": 12,
   "id": "6da21b1d",
   "metadata": {},
   "outputs": [],
   "source": [
    "df.Garden = df.Garden.fillna(value='O')"
   ]
  },
  {
   "cell_type": "code",
   "execution_count": 13,
   "id": "0e522831",
   "metadata": {},
   "outputs": [
    {
     "data": {
      "text/plain": [
       "0"
      ]
     },
     "execution_count": 13,
     "metadata": {},
     "output_type": "execute_result"
    }
   ],
   "source": [
    "df.Garden.isna().sum()"
   ]
  },
  {
   "cell_type": "code",
   "execution_count": 14,
   "id": "2bbc57df",
   "metadata": {},
   "outputs": [],
   "source": [
    "building_mean = np.mean(df[\"Building Dimension\"])"
   ]
  },
  {
   "cell_type": "code",
   "execution_count": 15,
   "id": "976be774",
   "metadata": {},
   "outputs": [
    {
     "data": {
      "text/plain": [
       "1883.7275304791608"
      ]
     },
     "execution_count": 15,
     "metadata": {},
     "output_type": "execute_result"
    }
   ],
   "source": [
    "building_mean"
   ]
  },
  {
   "cell_type": "code",
   "execution_count": 16,
   "id": "d9386856",
   "metadata": {},
   "outputs": [],
   "source": [
    "df[\"Building Dimension\"] = df[\"Building Dimension\"].fillna(value = 1883.7275304791608)"
   ]
  },
  {
   "cell_type": "code",
   "execution_count": 17,
   "id": "4173842d",
   "metadata": {},
   "outputs": [
    {
     "data": {
      "text/plain": [
       "0"
      ]
     },
     "execution_count": 17,
     "metadata": {},
     "output_type": "execute_result"
    }
   ],
   "source": [
    "df[\"Building Dimension\"].isna().sum()"
   ]
  },
  {
   "cell_type": "code",
   "execution_count": 18,
   "id": "bbf2c3ff",
   "metadata": {},
   "outputs": [],
   "source": [
    "date_mean = np.mean(df[\"Date_of_Occupancy\"])"
   ]
  },
  {
   "cell_type": "code",
   "execution_count": 19,
   "id": "b85bb37d",
   "metadata": {},
   "outputs": [
    {
     "data": {
      "text/plain": [
       "1964.456404088996"
      ]
     },
     "execution_count": 19,
     "metadata": {},
     "output_type": "execute_result"
    }
   ],
   "source": [
    "date_mean"
   ]
  },
  {
   "cell_type": "code",
   "execution_count": 20,
   "id": "bb87516b",
   "metadata": {},
   "outputs": [],
   "source": [
    "df[\"Date_of_Occupancy\"] = df[\"Date_of_Occupancy\"].fillna(value = 1964.456404088996)"
   ]
  },
  {
   "cell_type": "code",
   "execution_count": 21,
   "id": "cf0326a8",
   "metadata": {},
   "outputs": [
    {
     "data": {
      "text/plain": [
       "0"
      ]
     },
     "execution_count": 21,
     "metadata": {},
     "output_type": "execute_result"
    }
   ],
   "source": [
    "df[\"Date_of_Occupancy\"].isna().sum()"
   ]
  },
  {
   "cell_type": "code",
   "execution_count": 22,
   "id": "6e8927d6",
   "metadata": {},
   "outputs": [
    {
     "data": {
      "text/plain": [
       "6088     143\n",
       "33063    137\n",
       "6083     113\n",
       "13206     98\n",
       "31555     87\n",
       "        ... \n",
       "59650      1\n",
       "59656      1\n",
       "60057      1\n",
       "60172      1\n",
       "2B353      1\n",
       "Name: Geo_Code, Length: 1307, dtype: int64"
      ]
     },
     "execution_count": 22,
     "metadata": {},
     "output_type": "execute_result"
    }
   ],
   "source": [
    "df[\"Geo_Code\"].value_counts()"
   ]
  },
  {
   "cell_type": "code",
   "execution_count": 23,
   "id": "81d51aef",
   "metadata": {},
   "outputs": [],
   "source": [
    "df[\"Geo_Code\"] = df[\"Geo_Code\"].fillna(value= '6088')"
   ]
  },
  {
   "cell_type": "code",
   "execution_count": 33,
   "id": "194da91b",
   "metadata": {},
   "outputs": [
    {
     "data": {
      "text/plain": [
       "0"
      ]
     },
     "execution_count": 33,
     "metadata": {},
     "output_type": "execute_result"
    }
   ],
   "source": [
    "df[\"Geo_Code\"].isna().sum()"
   ]
  },
  {
   "cell_type": "code",
   "execution_count": 34,
   "id": "8d6fbb2f",
   "metadata": {},
   "outputs": [
    {
     "data": {
      "text/plain": [
       "Customer Id           0\n",
       "YearOfObservation     0\n",
       "Insured_Period        0\n",
       "Residential           0\n",
       "Building_Painted      0\n",
       "Building_Fenced       0\n",
       "Garden                0\n",
       "Settlement            0\n",
       "Building Dimension    0\n",
       "Building_Type         0\n",
       "Date_of_Occupancy     0\n",
       "NumberOfWindows       0\n",
       "Geo_Code              0\n",
       "Claim                 0\n",
       "dtype: int64"
      ]
     },
     "execution_count": 34,
     "metadata": {},
     "output_type": "execute_result"
    }
   ],
   "source": [
    "df.isna().sum()"
   ]
  },
  {
   "cell_type": "code",
   "execution_count": 35,
   "id": "0a09ea6f",
   "metadata": {},
   "outputs": [
    {
     "name": "stdout",
     "output_type": "stream",
     "text": [
      "<class 'pandas.core.frame.DataFrame'>\n",
      "RangeIndex: 3069 entries, 0 to 3068\n",
      "Data columns (total 13 columns):\n",
      " #   Column              Non-Null Count  Dtype  \n",
      "---  ------              --------------  -----  \n",
      " 0   Customer Id         3069 non-null   object \n",
      " 1   YearOfObservation   3069 non-null   int64  \n",
      " 2   Insured_Period      3069 non-null   float64\n",
      " 3   Residential         3069 non-null   int64  \n",
      " 4   Building_Painted    3069 non-null   object \n",
      " 5   Building_Fenced     3069 non-null   object \n",
      " 6   Garden              3069 non-null   object \n",
      " 7   Settlement          3069 non-null   object \n",
      " 8   Building Dimension  3069 non-null   float64\n",
      " 9   Building_Type       3069 non-null   int64  \n",
      " 10  Date_of_Occupancy   2341 non-null   float64\n",
      " 11  NumberOfWindows     3069 non-null   object \n",
      " 12  Geo_Code            3056 non-null   object \n",
      "dtypes: float64(3), int64(3), object(7)\n",
      "memory usage: 311.8+ KB\n"
     ]
    }
   ],
   "source": [
    "dff.info()"
   ]
  },
  {
   "cell_type": "code",
   "execution_count": 36,
   "id": "53c9353c",
   "metadata": {},
   "outputs": [
    {
     "data": {
      "text/plain": [
       "Customer Id             0\n",
       "YearOfObservation       0\n",
       "Insured_Period          0\n",
       "Residential             0\n",
       "Building_Painted        0\n",
       "Building_Fenced         0\n",
       "Garden                  0\n",
       "Settlement              0\n",
       "Building Dimension      0\n",
       "Building_Type           0\n",
       "Date_of_Occupancy     728\n",
       "NumberOfWindows         0\n",
       "Geo_Code               13\n",
       "dtype: int64"
      ]
     },
     "execution_count": 36,
     "metadata": {},
     "output_type": "execute_result"
    }
   ],
   "source": [
    "dff.isna().sum()"
   ]
  },
  {
   "cell_type": "code",
   "execution_count": 37,
   "id": "c56d78a0",
   "metadata": {},
   "outputs": [
    {
     "data": {
      "text/plain": [
       "V    2244\n",
       "O     825\n",
       "Name: Garden, dtype: int64"
      ]
     },
     "execution_count": 37,
     "metadata": {},
     "output_type": "execute_result"
    }
   ],
   "source": [
    "dff.Garden.value_counts()"
   ]
  },
  {
   "cell_type": "code",
   "execution_count": 38,
   "id": "1967c944",
   "metadata": {},
   "outputs": [],
   "source": [
    "dff.Garden = dff.Garden.fillna(value='V')"
   ]
  },
  {
   "cell_type": "code",
   "execution_count": 39,
   "id": "08902caa",
   "metadata": {},
   "outputs": [],
   "source": [
    "building_mean1 = np.mean(dff[\"Building Dimension\"])"
   ]
  },
  {
   "cell_type": "code",
   "execution_count": 40,
   "id": "9705acfd",
   "metadata": {},
   "outputs": [
    {
     "data": {
      "text/plain": [
       "1666.7905759162293"
      ]
     },
     "execution_count": 40,
     "metadata": {},
     "output_type": "execute_result"
    }
   ],
   "source": [
    "building_mean1"
   ]
  },
  {
   "cell_type": "code",
   "execution_count": 41,
   "id": "4a47ae06",
   "metadata": {},
   "outputs": [],
   "source": [
    "dff[\"Building Dimension\"] = dff[\"Building Dimension\"].fillna(value = 1666.7905759162304)"
   ]
  },
  {
   "cell_type": "code",
   "execution_count": 42,
   "id": "088a9b39",
   "metadata": {},
   "outputs": [],
   "source": [
    "date_mean1 = np.mean(dff[\"Date_of_Occupancy\"])"
   ]
  },
  {
   "cell_type": "code",
   "execution_count": 43,
   "id": "51c31203",
   "metadata": {},
   "outputs": [
    {
     "data": {
      "text/plain": [
       "1966.7817172148655"
      ]
     },
     "execution_count": 43,
     "metadata": {},
     "output_type": "execute_result"
    }
   ],
   "source": [
    "date_mean1"
   ]
  },
  {
   "cell_type": "code",
   "execution_count": 44,
   "id": "48878a09",
   "metadata": {},
   "outputs": [],
   "source": [
    "dff[\"Date_of_Occupancy\"] = dff[\"Date_of_Occupancy\"].fillna(value = 1966.7817172148655)"
   ]
  },
  {
   "cell_type": "code",
   "execution_count": 45,
   "id": "2bc517be",
   "metadata": {},
   "outputs": [
    {
     "data": {
      "text/plain": [
       "6083     113\n",
       "6088      95\n",
       "2B033     74\n",
       "13206     68\n",
       "13204     61\n",
       "        ... \n",
       "68149      1\n",
       "29058      1\n",
       "68062      1\n",
       "68060      1\n",
       "74081      1\n",
       "Name: Geo_Code, Length: 697, dtype: int64"
      ]
     },
     "execution_count": 45,
     "metadata": {},
     "output_type": "execute_result"
    }
   ],
   "source": [
    "dff[\"Geo_Code\"].value_counts()"
   ]
  },
  {
   "cell_type": "code",
   "execution_count": 46,
   "id": "8480a24f",
   "metadata": {},
   "outputs": [],
   "source": [
    "dff[\"Geo_Code\"] = dff[\"Geo_Code\"].fillna(value= '6083')"
   ]
  },
  {
   "cell_type": "code",
   "execution_count": 47,
   "id": "675a1cb9",
   "metadata": {},
   "outputs": [
    {
     "data": {
      "text/plain": [
       "Customer Id           0\n",
       "YearOfObservation     0\n",
       "Insured_Period        0\n",
       "Residential           0\n",
       "Building_Painted      0\n",
       "Building_Fenced       0\n",
       "Garden                0\n",
       "Settlement            0\n",
       "Building Dimension    0\n",
       "Building_Type         0\n",
       "Date_of_Occupancy     0\n",
       "NumberOfWindows       0\n",
       "Geo_Code              0\n",
       "dtype: int64"
      ]
     },
     "execution_count": 47,
     "metadata": {},
     "output_type": "execute_result"
    }
   ],
   "source": [
    "dff.isna().sum()"
   ]
  },
  {
   "cell_type": "code",
   "execution_count": 48,
   "id": "f8b56c9e",
   "metadata": {},
   "outputs": [],
   "source": [
    "df.drop(\"Customer Id\", axis = 1, inplace = True)"
   ]
  },
  {
   "cell_type": "code",
   "execution_count": 49,
   "id": "181be254",
   "metadata": {},
   "outputs": [],
   "source": [
    "dff.drop(\"Customer Id\", axis = 1, inplace = True)"
   ]
  },
  {
   "cell_type": "code",
   "execution_count": 50,
   "id": "ab4a02e4",
   "metadata": {},
   "outputs": [
    {
     "name": "stdout",
     "output_type": "stream",
     "text": [
      "<class 'pandas.core.frame.DataFrame'>\n",
      "RangeIndex: 7160 entries, 0 to 7159\n",
      "Data columns (total 13 columns):\n",
      " #   Column              Non-Null Count  Dtype  \n",
      "---  ------              --------------  -----  \n",
      " 0   YearOfObservation   7160 non-null   int64  \n",
      " 1   Insured_Period      7160 non-null   float64\n",
      " 2   Residential         7160 non-null   int64  \n",
      " 3   Building_Painted    7160 non-null   object \n",
      " 4   Building_Fenced     7160 non-null   object \n",
      " 5   Garden              7160 non-null   object \n",
      " 6   Settlement          7160 non-null   object \n",
      " 7   Building Dimension  7160 non-null   float64\n",
      " 8   Building_Type       7160 non-null   int64  \n",
      " 9   Date_of_Occupancy   7160 non-null   float64\n",
      " 10  NumberOfWindows     7160 non-null   object \n",
      " 11  Geo_Code            7160 non-null   object \n",
      " 12  Claim               7160 non-null   int64  \n",
      "dtypes: float64(3), int64(4), object(6)\n",
      "memory usage: 727.3+ KB\n"
     ]
    }
   ],
   "source": [
    "df.info()"
   ]
  },
  {
   "cell_type": "code",
   "execution_count": 51,
   "id": "87184bd2",
   "metadata": {},
   "outputs": [],
   "source": [
    "lab_enc = LabelEncoder()\n",
    "df[\"Building_Painted\"] = lab_enc.fit_transform(df[\"Building_Painted\"])\n",
    "df[\"Building_Fenced\"] = lab_enc.fit_transform(df[\"Building_Fenced\"])\n",
    "df[\"Garden\"] = lab_enc.fit_transform(df[\"Garden\"])\n",
    "df[\"Settlement\"] = lab_enc.fit_transform(df[\"Settlement\"])\n",
    "df[\"NumberOfWindows\"] = lab_enc.fit_transform(df[\"NumberOfWindows\"])\n",
    "df[\"Geo_Code\"] = lab_enc.fit_transform(df[\"Geo_Code\"])\n",
    "\n",
    "\n",
    "\n",
    "dff[\"Building_Painted\"] = lab_enc.fit_transform(dff[\"Building_Painted\"])\n",
    "dff[\"Building_Fenced\"] = lab_enc.fit_transform(dff[\"Building_Fenced\"])\n",
    "dff[\"Garden\"] = lab_enc.fit_transform(dff[\"Garden\"])\n",
    "dff[\"Settlement\"] = lab_enc.fit_transform(dff[\"Settlement\"])\n",
    "dff[\"NumberOfWindows\"] = lab_enc.fit_transform(dff[\"NumberOfWindows\"])\n",
    "dff[\"Geo_Code\"] = lab_enc.fit_transform(dff[\"Geo_Code\"])\n",
    "\n",
    "\n"
   ]
  },
  {
   "cell_type": "code",
   "execution_count": 52,
   "id": "b57ac8f7",
   "metadata": {},
   "outputs": [
    {
     "name": "stdout",
     "output_type": "stream",
     "text": [
      "<class 'pandas.core.frame.DataFrame'>\n",
      "RangeIndex: 7160 entries, 0 to 7159\n",
      "Data columns (total 13 columns):\n",
      " #   Column              Non-Null Count  Dtype  \n",
      "---  ------              --------------  -----  \n",
      " 0   YearOfObservation   7160 non-null   int64  \n",
      " 1   Insured_Period      7160 non-null   float64\n",
      " 2   Residential         7160 non-null   int64  \n",
      " 3   Building_Painted    7160 non-null   int32  \n",
      " 4   Building_Fenced     7160 non-null   int32  \n",
      " 5   Garden              7160 non-null   int32  \n",
      " 6   Settlement          7160 non-null   int32  \n",
      " 7   Building Dimension  7160 non-null   float64\n",
      " 8   Building_Type       7160 non-null   int64  \n",
      " 9   Date_of_Occupancy   7160 non-null   float64\n",
      " 10  NumberOfWindows     7160 non-null   int32  \n",
      " 11  Geo_Code            7160 non-null   int32  \n",
      " 12  Claim               7160 non-null   int64  \n",
      "dtypes: float64(3), int32(6), int64(4)\n",
      "memory usage: 559.5 KB\n"
     ]
    }
   ],
   "source": [
    "df.info()"
   ]
  },
  {
   "cell_type": "code",
   "execution_count": 53,
   "id": "8440e977",
   "metadata": {},
   "outputs": [
    {
     "name": "stdout",
     "output_type": "stream",
     "text": [
      "<class 'pandas.core.frame.DataFrame'>\n",
      "RangeIndex: 3069 entries, 0 to 3068\n",
      "Data columns (total 12 columns):\n",
      " #   Column              Non-Null Count  Dtype  \n",
      "---  ------              --------------  -----  \n",
      " 0   YearOfObservation   3069 non-null   int64  \n",
      " 1   Insured_Period      3069 non-null   float64\n",
      " 2   Residential         3069 non-null   int64  \n",
      " 3   Building_Painted    3069 non-null   int32  \n",
      " 4   Building_Fenced     3069 non-null   int32  \n",
      " 5   Garden              3069 non-null   int32  \n",
      " 6   Settlement          3069 non-null   int32  \n",
      " 7   Building Dimension  3069 non-null   float64\n",
      " 8   Building_Type       3069 non-null   int64  \n",
      " 9   Date_of_Occupancy   3069 non-null   float64\n",
      " 10  NumberOfWindows     3069 non-null   int32  \n",
      " 11  Geo_Code            3069 non-null   int32  \n",
      "dtypes: float64(3), int32(6), int64(3)\n",
      "memory usage: 215.9 KB\n"
     ]
    }
   ],
   "source": [
    "dff.info()"
   ]
  },
  {
   "cell_type": "code",
   "execution_count": 54,
   "id": "6737c3d2",
   "metadata": {},
   "outputs": [],
   "source": [
    "X = df.drop(\"Claim\", axis = 1)\n",
    "y = df.Claim\n",
    "test = dff\n"
   ]
  },
  {
   "cell_type": "code",
   "execution_count": 57,
   "id": "f600349e",
   "metadata": {},
   "outputs": [],
   "source": [
    "X_train, X_test, y_train, y_test = train_test_split(X, y, test_size = 0.2, random_state = 120)"
   ]
  },
  {
   "cell_type": "code",
   "execution_count": 58,
   "id": "cf888cc9",
   "metadata": {},
   "outputs": [
    {
     "data": {
      "text/plain": [
       "(5728, 12)"
      ]
     },
     "execution_count": 58,
     "metadata": {},
     "output_type": "execute_result"
    }
   ],
   "source": [
    "X_train.shape"
   ]
  },
  {
   "cell_type": "code",
   "execution_count": 59,
   "id": "cae55807",
   "metadata": {},
   "outputs": [
    {
     "data": {
      "text/plain": [
       "(1432, 12)"
      ]
     },
     "execution_count": 59,
     "metadata": {},
     "output_type": "execute_result"
    }
   ],
   "source": [
    "X_test.shape"
   ]
  },
  {
   "cell_type": "code",
   "execution_count": 60,
   "id": "a73ba7cf",
   "metadata": {},
   "outputs": [
    {
     "data": {
      "text/plain": [
       "(5728,)"
      ]
     },
     "execution_count": 60,
     "metadata": {},
     "output_type": "execute_result"
    }
   ],
   "source": [
    "y_train.shape"
   ]
  },
  {
   "cell_type": "code",
   "execution_count": 61,
   "id": "58bdd8a2",
   "metadata": {},
   "outputs": [
    {
     "data": {
      "text/plain": [
       "(1432,)"
      ]
     },
     "execution_count": 61,
     "metadata": {},
     "output_type": "execute_result"
    }
   ],
   "source": [
    "y_test.shape"
   ]
  },
  {
   "cell_type": "code",
   "execution_count": 62,
   "id": "79b718f0",
   "metadata": {},
   "outputs": [
    {
     "data": {
      "text/plain": [
       "LinearRegression()"
      ]
     },
     "execution_count": 62,
     "metadata": {},
     "output_type": "execute_result"
    }
   ],
   "source": [
    "from sklearn.linear_model import LinearRegression\n",
    "from sklearn.metrics import accuracy_score, f1_score\n",
    "linear = LinearRegression()\n",
    "linear.fit(X_train, y_train)"
   ]
  },
  {
   "cell_type": "code",
   "execution_count": 63,
   "id": "ee602aae",
   "metadata": {},
   "outputs": [],
   "source": [
    "linear_predict = linear.predict(X_test)"
   ]
  },
  {
   "cell_type": "code",
   "execution_count": 64,
   "id": "9d23ad64",
   "metadata": {},
   "outputs": [
    {
     "data": {
      "text/plain": [
       "array([0.33505043, 0.0848828 , 0.12521046, ..., 0.03433311, 0.10068199,\n",
       "       0.07357787])"
      ]
     },
     "execution_count": 64,
     "metadata": {},
     "output_type": "execute_result"
    }
   ],
   "source": [
    "linear_predict"
   ]
  },
  {
   "cell_type": "code",
   "execution_count": 65,
   "id": "e20a9fc8",
   "metadata": {},
   "outputs": [
    {
     "name": "stderr",
     "output_type": "stream",
     "text": [
      "C:\\Users\\HP\\anaconda3\\lib\\site-packages\\sklearn\\linear_model\\_logistic.py:763: ConvergenceWarning: lbfgs failed to converge (status=1):\n",
      "STOP: TOTAL NO. of ITERATIONS REACHED LIMIT.\n",
      "\n",
      "Increase the number of iterations (max_iter) or scale the data as shown in:\n",
      "    https://scikit-learn.org/stable/modules/preprocessing.html\n",
      "Please also refer to the documentation for alternative solver options:\n",
      "    https://scikit-learn.org/stable/modules/linear_model.html#logistic-regression\n",
      "  n_iter_i = _check_optimize_result(\n"
     ]
    }
   ],
   "source": [
    "from sklearn.linear_model import LogisticRegression\n",
    "logistic = LogisticRegression()\n",
    "logistic.fit(X_train, y_train)\n",
    "log_pred = logistic.predict(X_test)\n",
    "\n",
    "\n",
    "import pickle\n",
    "filename =  \"Log Reg Building Insurance.sav\"\n",
    "pickle.dump(logistic, open(filename, 'wb'))    #to deploy thw beat model"
   ]
  },
  {
   "cell_type": "code",
   "execution_count": 66,
   "id": "5cb56065",
   "metadata": {},
   "outputs": [
    {
     "data": {
      "text/plain": [
       "0.7751396648044693"
      ]
     },
     "execution_count": 66,
     "metadata": {},
     "output_type": "execute_result"
    }
   ],
   "source": [
    "accuracy_score(y_test, log_pred)"
   ]
  },
  {
   "cell_type": "code",
   "execution_count": 67,
   "id": "72d36bbf",
   "metadata": {},
   "outputs": [],
   "source": [
    "from sklearn.tree import DecisionTreeRegressor\n",
    "tree = DecisionTreeRegressor()\n",
    "tree.fit(X_train, y_train)\n",
    "tree_pred = tree.predict(X_test)"
   ]
  },
  {
   "cell_type": "code",
   "execution_count": 68,
   "id": "39fb31f1",
   "metadata": {},
   "outputs": [
    {
     "data": {
      "text/plain": [
       "array([0, 0, 0, ..., 0, 0, 0], dtype=int64)"
      ]
     },
     "execution_count": 68,
     "metadata": {},
     "output_type": "execute_result"
    }
   ],
   "source": [
    "from sklearn.naive_bayes import GaussianNB\n",
    "\n",
    "naivemodel = GaussianNB()\n",
    "\n",
    "naivemodel.fit(X_train, y_train)\n",
    "na_pred = naivemodel.predict(X_test)\n",
    "na_pred"
   ]
  },
  {
   "cell_type": "code",
   "execution_count": 84,
   "id": "8ce6946e",
   "metadata": {},
   "outputs": [
    {
     "data": {
      "text/plain": [
       "0.763268156424581"
      ]
     },
     "execution_count": 84,
     "metadata": {},
     "output_type": "execute_result"
    }
   ],
   "source": [
    "accuracy_score(y_test, na_pred)"
   ]
  },
  {
   "cell_type": "code",
   "execution_count": 85,
   "id": "9c32c934",
   "metadata": {},
   "outputs": [
    {
     "data": {
      "text/plain": [
       "0.7737430167597765"
      ]
     },
     "execution_count": 85,
     "metadata": {},
     "output_type": "execute_result"
    }
   ],
   "source": [
    "# for SVM model\n",
    "from sklearn.svm import SVC\n",
    "SVMmodel = SVC()\n",
    "SVMmodel.fit(X_train, y_train)\n",
    "SVM_pred = SVMmodel.predict(X_test)\n",
    "# f1_score(y_test, SVM_pred) * 100\n",
    "accuracy_score(y_test, SVM_pred)"
   ]
  },
  {
   "cell_type": "code",
   "execution_count": 86,
   "id": "c674a602",
   "metadata": {},
   "outputs": [
    {
     "data": {
      "text/plain": [
       "0.7716480446927374"
      ]
     },
     "execution_count": 86,
     "metadata": {},
     "output_type": "execute_result"
    }
   ],
   "source": [
    "# For random forest model\n",
    "from sklearn.ensemble import RandomForestClassifier\n",
    "randomforestmodel = RandomForestClassifier()\n",
    "randomforestmodel.fit(X_train, y_train)\n",
    "ran_pred = randomforestmodel.predict(X_test)\n",
    "# f1_score(y_test, ran_pred)*100\n",
    "accuracy_score(y_test, ran_pred)\n"
   ]
  },
  {
   "cell_type": "markdown",
   "id": "2ca9c6e9",
   "metadata": {},
   "source": [
    "# SINCE LOGISTIC REGRESSION GAVE THE BEST ACCURACY SCORE "
   ]
  },
  {
   "cell_type": "code",
   "execution_count": 78,
   "id": "1672970b",
   "metadata": {},
   "outputs": [],
   "source": [
    "prediction = logistic.predict(test)"
   ]
  },
  {
   "cell_type": "code",
   "execution_count": 80,
   "id": "ab10e5f3",
   "metadata": {},
   "outputs": [
    {
     "data": {
      "text/plain": [
       "array([0, 0, 0, ..., 0, 0, 0], dtype=int64)"
      ]
     },
     "execution_count": 80,
     "metadata": {},
     "output_type": "execute_result"
    }
   ],
   "source": [
    "prediction"
   ]
  },
  {
   "cell_type": "code",
   "execution_count": 81,
   "id": "7907d409",
   "metadata": {},
   "outputs": [
    {
     "data": {
      "text/html": [
       "<div>\n",
       "<style scoped>\n",
       "    .dataframe tbody tr th:only-of-type {\n",
       "        vertical-align: middle;\n",
       "    }\n",
       "\n",
       "    .dataframe tbody tr th {\n",
       "        vertical-align: top;\n",
       "    }\n",
       "\n",
       "    .dataframe thead th {\n",
       "        text-align: right;\n",
       "    }\n",
       "</style>\n",
       "<table border=\"1\" class=\"dataframe\">\n",
       "  <thead>\n",
       "    <tr style=\"text-align: right;\">\n",
       "      <th></th>\n",
       "      <th>YearOfObservation</th>\n",
       "      <th>Insured_Period</th>\n",
       "      <th>Residential</th>\n",
       "      <th>Building_Painted</th>\n",
       "      <th>Building_Fenced</th>\n",
       "      <th>Garden</th>\n",
       "      <th>Settlement</th>\n",
       "      <th>Building Dimension</th>\n",
       "      <th>Building_Type</th>\n",
       "      <th>Date_of_Occupancy</th>\n",
       "      <th>NumberOfWindows</th>\n",
       "      <th>Geo_Code</th>\n",
       "    </tr>\n",
       "  </thead>\n",
       "  <tbody>\n",
       "    <tr>\n",
       "      <th>0</th>\n",
       "      <td>2013</td>\n",
       "      <td>1.000000</td>\n",
       "      <td>0</td>\n",
       "      <td>1</td>\n",
       "      <td>0</td>\n",
       "      <td>0</td>\n",
       "      <td>0</td>\n",
       "      <td>300.000000</td>\n",
       "      <td>1</td>\n",
       "      <td>1960.0</td>\n",
       "      <td>3</td>\n",
       "      <td>142</td>\n",
       "    </tr>\n",
       "    <tr>\n",
       "      <th>1</th>\n",
       "      <td>2016</td>\n",
       "      <td>0.997268</td>\n",
       "      <td>0</td>\n",
       "      <td>1</td>\n",
       "      <td>0</td>\n",
       "      <td>0</td>\n",
       "      <td>0</td>\n",
       "      <td>300.000000</td>\n",
       "      <td>1</td>\n",
       "      <td>1960.0</td>\n",
       "      <td>3</td>\n",
       "      <td>142</td>\n",
       "    </tr>\n",
       "    <tr>\n",
       "      <th>2</th>\n",
       "      <td>2013</td>\n",
       "      <td>0.369863</td>\n",
       "      <td>0</td>\n",
       "      <td>1</td>\n",
       "      <td>1</td>\n",
       "      <td>1</td>\n",
       "      <td>1</td>\n",
       "      <td>790.000000</td>\n",
       "      <td>1</td>\n",
       "      <td>1960.0</td>\n",
       "      <td>0</td>\n",
       "      <td>142</td>\n",
       "    </tr>\n",
       "    <tr>\n",
       "      <th>3</th>\n",
       "      <td>2014</td>\n",
       "      <td>1.000000</td>\n",
       "      <td>0</td>\n",
       "      <td>1</td>\n",
       "      <td>0</td>\n",
       "      <td>0</td>\n",
       "      <td>0</td>\n",
       "      <td>1405.000000</td>\n",
       "      <td>1</td>\n",
       "      <td>2004.0</td>\n",
       "      <td>3</td>\n",
       "      <td>143</td>\n",
       "    </tr>\n",
       "    <tr>\n",
       "      <th>4</th>\n",
       "      <td>2016</td>\n",
       "      <td>1.000000</td>\n",
       "      <td>0</td>\n",
       "      <td>1</td>\n",
       "      <td>0</td>\n",
       "      <td>0</td>\n",
       "      <td>0</td>\n",
       "      <td>1405.000000</td>\n",
       "      <td>1</td>\n",
       "      <td>2004.0</td>\n",
       "      <td>3</td>\n",
       "      <td>143</td>\n",
       "    </tr>\n",
       "    <tr>\n",
       "      <th>...</th>\n",
       "      <td>...</td>\n",
       "      <td>...</td>\n",
       "      <td>...</td>\n",
       "      <td>...</td>\n",
       "      <td>...</td>\n",
       "      <td>...</td>\n",
       "      <td>...</td>\n",
       "      <td>...</td>\n",
       "      <td>...</td>\n",
       "      <td>...</td>\n",
       "      <td>...</td>\n",
       "      <td>...</td>\n",
       "    </tr>\n",
       "    <tr>\n",
       "      <th>3064</th>\n",
       "      <td>2015</td>\n",
       "      <td>1.000000</td>\n",
       "      <td>0</td>\n",
       "      <td>1</td>\n",
       "      <td>1</td>\n",
       "      <td>1</td>\n",
       "      <td>1</td>\n",
       "      <td>1666.790576</td>\n",
       "      <td>4</td>\n",
       "      <td>1900.0</td>\n",
       "      <td>0</td>\n",
       "      <td>337</td>\n",
       "    </tr>\n",
       "    <tr>\n",
       "      <th>3065</th>\n",
       "      <td>2012</td>\n",
       "      <td>1.000000</td>\n",
       "      <td>0</td>\n",
       "      <td>1</td>\n",
       "      <td>1</td>\n",
       "      <td>1</td>\n",
       "      <td>1</td>\n",
       "      <td>1666.790576</td>\n",
       "      <td>2</td>\n",
       "      <td>1948.0</td>\n",
       "      <td>0</td>\n",
       "      <td>337</td>\n",
       "    </tr>\n",
       "    <tr>\n",
       "      <th>3066</th>\n",
       "      <td>2012</td>\n",
       "      <td>1.000000</td>\n",
       "      <td>0</td>\n",
       "      <td>1</td>\n",
       "      <td>1</td>\n",
       "      <td>1</td>\n",
       "      <td>1</td>\n",
       "      <td>1666.790576</td>\n",
       "      <td>2</td>\n",
       "      <td>1993.0</td>\n",
       "      <td>0</td>\n",
       "      <td>337</td>\n",
       "    </tr>\n",
       "    <tr>\n",
       "      <th>3067</th>\n",
       "      <td>2013</td>\n",
       "      <td>1.000000</td>\n",
       "      <td>0</td>\n",
       "      <td>1</td>\n",
       "      <td>1</td>\n",
       "      <td>1</td>\n",
       "      <td>1</td>\n",
       "      <td>1666.790576</td>\n",
       "      <td>1</td>\n",
       "      <td>1800.0</td>\n",
       "      <td>0</td>\n",
       "      <td>337</td>\n",
       "    </tr>\n",
       "    <tr>\n",
       "      <th>3068</th>\n",
       "      <td>2012</td>\n",
       "      <td>1.000000</td>\n",
       "      <td>0</td>\n",
       "      <td>1</td>\n",
       "      <td>1</td>\n",
       "      <td>1</td>\n",
       "      <td>1</td>\n",
       "      <td>1666.790576</td>\n",
       "      <td>2</td>\n",
       "      <td>1950.0</td>\n",
       "      <td>0</td>\n",
       "      <td>337</td>\n",
       "    </tr>\n",
       "  </tbody>\n",
       "</table>\n",
       "<p>3069 rows × 12 columns</p>\n",
       "</div>"
      ],
      "text/plain": [
       "      YearOfObservation  Insured_Period  Residential  Building_Painted  \\\n",
       "0                  2013        1.000000            0                 1   \n",
       "1                  2016        0.997268            0                 1   \n",
       "2                  2013        0.369863            0                 1   \n",
       "3                  2014        1.000000            0                 1   \n",
       "4                  2016        1.000000            0                 1   \n",
       "...                 ...             ...          ...               ...   \n",
       "3064               2015        1.000000            0                 1   \n",
       "3065               2012        1.000000            0                 1   \n",
       "3066               2012        1.000000            0                 1   \n",
       "3067               2013        1.000000            0                 1   \n",
       "3068               2012        1.000000            0                 1   \n",
       "\n",
       "      Building_Fenced  Garden  Settlement  Building Dimension  Building_Type  \\\n",
       "0                   0       0           0          300.000000              1   \n",
       "1                   0       0           0          300.000000              1   \n",
       "2                   1       1           1          790.000000              1   \n",
       "3                   0       0           0         1405.000000              1   \n",
       "4                   0       0           0         1405.000000              1   \n",
       "...               ...     ...         ...                 ...            ...   \n",
       "3064                1       1           1         1666.790576              4   \n",
       "3065                1       1           1         1666.790576              2   \n",
       "3066                1       1           1         1666.790576              2   \n",
       "3067                1       1           1         1666.790576              1   \n",
       "3068                1       1           1         1666.790576              2   \n",
       "\n",
       "      Date_of_Occupancy  NumberOfWindows  Geo_Code  \n",
       "0                1960.0                3       142  \n",
       "1                1960.0                3       142  \n",
       "2                1960.0                0       142  \n",
       "3                2004.0                3       143  \n",
       "4                2004.0                3       143  \n",
       "...                 ...              ...       ...  \n",
       "3064             1900.0                0       337  \n",
       "3065             1948.0                0       337  \n",
       "3066             1993.0                0       337  \n",
       "3067             1800.0                0       337  \n",
       "3068             1950.0                0       337  \n",
       "\n",
       "[3069 rows x 12 columns]"
      ]
     },
     "execution_count": 81,
     "metadata": {},
     "output_type": "execute_result"
    }
   ],
   "source": [
    "# new_ss[\"Claim\"] = prediction\n",
    "\n",
    "a = {'Customer Id': other[\"Customer Id\"], 'Claim': prediction}   #to merge a column \n",
    "                        \n",
    "                        \n",
    "\n",
    "result = pd.DataFrame(data = a)\n",
    "# ss.to_csv('result.csv', index = False)\n",
    "test"
   ]
  },
  {
   "cell_type": "code",
   "execution_count": 82,
   "id": "ac0c60e8",
   "metadata": {},
   "outputs": [],
   "source": [
    "result.to_csv('finalresult11.csv',index= False)"
   ]
  },
  {
   "cell_type": "code",
   "execution_count": 83,
   "id": "fe0751ce",
   "metadata": {},
   "outputs": [],
   "source": [
    "# go to dos\n",
    "# change directory to access the project filaame (buidling insurance) then\n",
    "# run this code ---  streamlit run the streamlit filename eg  building.py"
   ]
  },
  {
   "cell_type": "code",
   "execution_count": null,
   "id": "dc38dd21",
   "metadata": {},
   "outputs": [],
   "source": [
    "# import pandas as pd\n",
    "# import streamlit as st\n",
    "# import pickle\n",
    "\n",
    "# filename = \"Log Reg Building Insurance.sav\"\n",
    "# model = pickle.load(open(filename, 'rb')) #to load the pickled data\n",
    "\n",
    "\n",
    "# go to dos\n",
    "# change directory to access the project filaame (buidling insurance) then\n",
    "# run theis code ---  streamlit run (spidey filename eg  building.py)\n",
    "\n",
    "# st.title ('Building insurance app')\n",
    "# st.subheader('This app takes in certain variable to enable prediction')\n",
    "\n",
    "# # select box for categorical data impt\n",
    "# # slider bar for continuous data input\n",
    "# def user_imput(): ---createing a usrs fucntion\n",
    "#     YearObservation = st.slider('what year was your buoding insured', 2012, 2016)\n",
    "#     Insured_Period = st.slider('what is the duration of the insurance?',0, 10)\n",
    "#     Residential = st.Selectbox('is the buidling residential or not hint: 1 for yes and 0 for no', option = [0,1], index = 0)\n",
    "#     building_fenced = st.Selectbox('is the buidling denced or not', option = [0,1], index = 0)\n",
    "#     settlement = st.Selectbox('is the area rural or urban', option = [0,1], index = 0)\n",
    "#     Buidling_dimension =  st.slider('what is the dimension of your bulding', 1.0, 30000.0)\n",
    "#     Building_Type = st.Selectbox('what is your building type', option = [0,1,2,3], index = 0)\n",
    "#     Date_of_Occupancy = st.slider('Date of occupancy', 1545, 2016)\n",
    "#     Geo_code = st.slider('Geographical code of the building?', 0, 2000)\n",
    "#     #INDEX property in the selectbox is to determien what is diplayed among the option in the selectbox 0 for the first optio to be displayed\n",
    "# #     create a diction for the data, the column can eb abything but the value MUST be exact with wat you created above\n",
    "    \n",
    "#     data = {'YearofObservation':YearObservation,\n",
    "#             'Insurance  Period': Insured_Period,\n",
    "#             'Redidential': Residential,\n",
    "#             'Building Fence': building_fence,\n",
    "#             'settlement': settlement,\n",
    "#             'Budilng dimension': buidling_dimension,\n",
    "#             'building type': building_Type,\n",
    "#             'date of occ': Date_of_Occupancy,\n",
    "#             'geo code': Geo_code\n",
    "           \n",
    "           \n",
    "#            }\n",
    "    \n",
    "    \n",
    "#     features = pd.Dataframe(data, index=[0])  #- convert the dictionary to dataframe\n",
    "#     return features    #this will then return the dataframe features and not it will not be on the extreme ut under the \n",
    "#fucntion\n",
    "\n",
    "\n",
    "# #pass the dataframe tp a variable and run the model on it\n",
    "# df = user_imput()\n",
    "# #prediction = model.prediction(df)\n",
    "\n",
    "\n",
    "# # create a prediction function\n",
    "# def prediction():\n",
    "#     predict = model.prediction(df)\n",
    "#     result = ''\n",
    "#     if predict == 0:\n",
    "#         result = 'Not Qualified'\n",
    "#     else:\n",
    "#         result= 'Qualified'\n",
    "#     return result\n",
    "\n",
    "\n",
    "# submit = st.button('Get prediction')\n",
    "# result = prediction()\n",
    "# st.success('Thank you for filling the form. you are {}'.format(result))\n",
    "\n",
    "\n",
    "# image = image.open('filename.jpg')\n",
    "# st.image(iamge, '')  #for import image\n",
    "\n",
    "# # machinelearningnmystery---for problem solution\n",
    "# #hamoye internship\n",
    "\n",
    "# # there is a need to balance dataset SMOTE is use to downcast or upgrade dataset"
   ]
  }
 ],
 "metadata": {
  "kernelspec": {
   "display_name": "Python 3 (ipykernel)",
   "language": "python",
   "name": "python3"
  },
  "language_info": {
   "codemirror_mode": {
    "name": "ipython",
    "version": 3
   },
   "file_extension": ".py",
   "mimetype": "text/x-python",
   "name": "python",
   "nbconvert_exporter": "python",
   "pygments_lexer": "ipython3",
   "version": "3.9.7"
  }
 },
 "nbformat": 4,
 "nbformat_minor": 5
}
